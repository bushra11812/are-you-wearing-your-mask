{
 "cells": [
  {
   "cell_type": "markdown",
   "metadata": {},
   "source": [
    "# Head Extraction\n",
    "\n",
    "This notebook contains experimental code to how to detect heads in the images of already extracted people images. \n",
    "\n",
    "You can see some complementary _cherry-picked_ results below.\n",
    "\n",
    "<table>\n",
    "    <tr>\n",
    "        <th>\n",
    "            <img src=\"media/cherries/p000053.jpg\">\n",
    "        </th>\n",
    "        <th>\n",
    "            <img src=\"media/cherries/h000053.jpg\"><br>0 (no mask)\n",
    "        </th>\n",
    "        <th>\n",
    "            <img src=\"media/cherries/p000107.jpg\">\n",
    "        </th>\n",
    "        <th>\n",
    "            <img src=\"media/cherries/h000107.jpg\"><br>0 (no mask)\n",
    "        </th>\n",
    "        <th>\n",
    "            <img src=\"media/cherries/p000027.jpg\">\n",
    "        </th>\n",
    "        <th>\n",
    "            <img src=\"media/cherries/h000027.jpg\"><br>1 (mask)\n",
    "        </th>\n",
    "        <th>\n",
    "            <img src=\"media/cherries/p000000.jpg\">\n",
    "        </th>\n",
    "        <th>\n",
    "            <img src=\"media/cherries/h000000.jpg\"><br>0 (no mask)\n",
    "        </th>        \n",
    "        <th>\n",
    "            <img src=\"media/cherries/p000177.jpg\">\n",
    "        </th>\n",
    "        <th>\n",
    "            <img src=\"media/cherries/h000374.jpg\"><br>0 (no mask)\n",
    "        </th>  \n",
    "    </tr>\n",
    "</table>\n",
    "\n"
   ]
  },
  {
   "cell_type": "code",
   "execution_count": 1,
   "metadata": {},
   "outputs": [],
   "source": [
    "import cv2\n",
    "import matplotlib.pyplot as plt\n",
    "import numpy as np"
   ]
  },
  {
   "cell_type": "code",
   "execution_count": 187,
   "metadata": {},
   "outputs": [],
   "source": [
    "photos = []\n",
    "for i in range (200):\n",
    "    try:\n",
    "        photos.append(cv2.cvtColor(cv2.imread(\"archive/p{:06d}.jpg\".format(i)), cv2.COLOR_BGR2RGB))\n",
    "    except:\n",
    "        i+=1"
   ]
  },
  {
   "cell_type": "code",
   "execution_count": 189,
   "metadata": {},
   "outputs": [],
   "source": [
    "for j in range(200):\n",
    "\n",
    "    sample  = photos[i]\n",
    "\n",
    "    x,y     = sample.shape[0], sample.shape[1] \n",
    "    \n",
    "    tophalf = sample[:x//3,:]\n",
    "\n",
    "    img     = cv2.resize(tophalf, (2*y,x), interpolation = cv2.INTER_AREA)\n",
    "\n",
    "    # Load the cascade for face detector\n",
    "    cascade = cv2.CascadeClassifier('models/cascadeHead5.xml')\n",
    "\n",
    "    # Convert into grayscale\n",
    "    gray = cv2.cvtColor(img, cv2.COLOR_BGR2GRAY)\n",
    "    # Detect faces\n",
    "    boxes = cascade.detectMultiScale(gray, \n",
    "                                     1.1, \n",
    "                                     4\n",
    "                                     ,\n",
    "                                    #minSize=(24,24),\n",
    "                                    maxSize=(96,96)\n",
    "                                    )\n",
    "\n",
    "    boxes = np.array([[x, y, x + w, y + h] for (x, y, w, h) in boxes])\n",
    "    \n",
    "    img_clean = img.copy()\n",
    "\n",
    "    for (xA, yA, xB, yB) in boxes:\n",
    "\n",
    "                # display the detected boxes in the colour picture\n",
    "                cv2.rectangle(img, (xA, yA), (xB, yB),\n",
    "                                  (255, 255, 0), 2)\n",
    "\n",
    "                #get contents of the bounding box\n",
    "                box = img_clean[yA:yB, xA:xB]\n",
    "\n",
    "    if len(boxes) > 0:\n",
    "        cv2.imwrite(\"heads/h{:06d}.jpg\".format(i), cv2.cvtColor(box, cv2.COLOR_BGR2RGB))"
   ]
  },
  {
   "cell_type": "code",
   "execution_count": 36,
   "metadata": {},
   "outputs": [],
   "source": []
  },
  {
   "cell_type": "code",
   "execution_count": null,
   "metadata": {},
   "outputs": [],
   "source": []
  },
  {
   "cell_type": "code",
   "execution_count": null,
   "metadata": {},
   "outputs": [],
   "source": []
  }
 ],
 "metadata": {
  "kernelspec": {
   "display_name": "Python 3",
   "language": "python",
   "name": "python3"
  },
  "language_info": {
   "codemirror_mode": {
    "name": "ipython",
    "version": 3
   },
   "file_extension": ".py",
   "mimetype": "text/x-python",
   "name": "python",
   "nbconvert_exporter": "python",
   "pygments_lexer": "ipython3",
   "version": "3.6.9"
  }
 },
 "nbformat": 4,
 "nbformat_minor": 2
}
