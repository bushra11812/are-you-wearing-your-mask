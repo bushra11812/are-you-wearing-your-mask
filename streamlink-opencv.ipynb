{
 "cells": [
  {
   "cell_type": "code",
   "execution_count": 20,
   "metadata": {},
   "outputs": [],
   "source": [
    "import streamlink\n",
    "import cv2\n",
    "import numpy as np\n",
    "import time\n",
    "import matplotlib.pyplot as plt"
   ]
  },
  {
   "cell_type": "code",
   "execution_count": 21,
   "metadata": {},
   "outputs": [],
   "source": [
    "from PIL import Image\n",
    "import imagehash"
   ]
  },
  {
   "cell_type": "code",
   "execution_count": 22,
   "metadata": {},
   "outputs": [],
   "source": [
    "possible_duplicates = {}\n",
    "\n",
    "class dupinstance:\n",
    "    def __init__(self, img):\n",
    "        self.img   = img\n",
    "        self.birth = time.time()"
   ]
  },
  {
   "cell_type": "code",
   "execution_count": 23,
   "metadata": {},
   "outputs": [],
   "source": [
    "# misc functions\n",
    "\n",
    "def cv2resize(img, scale_percent):\n",
    "    \n",
    "    width = int(img.shape[1] * scale_percent / 100)\n",
    "    height = int(img.shape[0] * scale_percent / 100)\n",
    "    dim = (width, height)\n",
    "    # resize image\n",
    "    resized = cv2.resize(img, dim, interpolation = cv2.INTER_AREA)\n",
    "    \n",
    "    return resized\n",
    "\n",
    "\n",
    "def similar(enum, im1, im2, threshold):\n",
    "    \n",
    "    nim2 = cv2.resize(im2, (im1.shape[1],im1.shape[0]))\n",
    "    \n",
    "    im_v = cv2.hconcat([im1, nim2])\n",
    "    \n",
    "    diff_ = np.sum(np.square(nim2-im1))/(im1.shape[0]*im1.shape[2])\n",
    "    diff  = imagehash.average_hash(Image.fromarray(nim2))-imagehash.average_hash(Image.fromarray(im1))\n",
    "    \n",
    "    \n",
    "    if diff_ < 6500 or diff < threshold:\n",
    "        cv2.imwrite(\"pairs/similar/d{:06d}_{}_{}.jpg\".format(int(diff//1), int(time.time()//1), enum), im_v)\n",
    "        return True\n",
    "    else:\n",
    "        cv2.imwrite(\"pairs/different/d{:06d}_{}_{}.jpg\".format(int(diff//1), int(time.time()//1), enum), im_v)\n",
    "        return False"
   ]
  },
  {
   "cell_type": "code",
   "execution_count": 24,
   "metadata": {},
   "outputs": [],
   "source": [
    "similarity_threshold = 25"
   ]
  },
  {
   "cell_type": "code",
   "execution_count": 25,
   "metadata": {},
   "outputs": [],
   "source": [
    "from streamlink import Streamlink\n",
    "\n",
    "session = Streamlink()\n",
    "\n",
    "session.set_option(\"http-ssl-verify\", False)\n",
    "\n",
    "# https://livestream.ibb.gov.tr/ibb_live/istiklalcad2hq.stream/Playlist.m3u8\n",
    "# https://livestream.ibb.gov.tr/ibb_live/misircarsisihq.stream/chunklist_w289409329.m3u8\n",
    "# https://livestream.ibb.gov.tr/ibb_live/istiklalcadhq.stream/Playlist.m3u8\n",
    "\n",
    "streams = session.streams(\"https://livestream.ibb.gov.tr/ibb_live/istiklalcadhq.stream/Playlist.m3u8\")\n",
    "stream = streams[\"worst\"]\n",
    "\n",
    "#fd = stream.open()\n",
    "#data = fd.read(1024)\n",
    "#print(data)"
   ]
  },
  {
   "cell_type": "code",
   "execution_count": 26,
   "metadata": {},
   "outputs": [
    {
     "data": {
      "text/plain": [
       "\"cap = cv2.VideoCapture(stream.url)\\n\\nwhile True:\\n    ret, frame = cap.read()\\n\\n    cv2.imshow('frame', cv2resize(frame,60))\\n\\n    if cv2.waitKey(1) & 0xff == ord('q'):\\n        break\\n        \\ncap.release()\\ncv2.destroyAllWindows()\""
      ]
     },
     "execution_count": 26,
     "metadata": {},
     "output_type": "execute_result"
    }
   ],
   "source": [
    "\"\"\"cap = cv2.VideoCapture(stream.url)\n",
    "\n",
    "while True:\n",
    "    ret, frame = cap.read()\n",
    "\n",
    "    cv2.imshow('frame', cv2resize(frame,60))\n",
    "\n",
    "    if cv2.waitKey(1) & 0xff == ord('q'):\n",
    "        break\n",
    "        \n",
    "cap.release()\n",
    "cv2.destroyAllWindows()\"\"\""
   ]
  },
  {
   "cell_type": "code",
   "execution_count": null,
   "metadata": {},
   "outputs": [],
   "source": []
  },
  {
   "cell_type": "code",
   "execution_count": 31,
   "metadata": {
    "scrolled": true
   },
   "outputs": [
    {
     "ename": "KeyboardInterrupt",
     "evalue": "",
     "output_type": "error",
     "traceback": [
      "\u001b[0;31m-------------------------------------\u001b[0m",
      "\u001b[0;31mKeyboardInterrupt\u001b[0mTraceback (most recent call last)",
      "\u001b[0;32m<ipython-input-31-0b80d880f337>\u001b[0m in \u001b[0;36m<module>\u001b[0;34m\u001b[0m\n\u001b[1;32m     20\u001b[0m \u001b[0;32mwhile\u001b[0m\u001b[0;34m(\u001b[0m\u001b[0;32mTrue\u001b[0m\u001b[0;34m)\u001b[0m\u001b[0;34m:\u001b[0m\u001b[0;34m\u001b[0m\u001b[0;34m\u001b[0m\u001b[0m\n\u001b[1;32m     21\u001b[0m     \u001b[0;31m# Capture frame-by-frame\u001b[0m\u001b[0;34m\u001b[0m\u001b[0;34m\u001b[0m\u001b[0;34m\u001b[0m\u001b[0m\n\u001b[0;32m---> 22\u001b[0;31m     \u001b[0mret\u001b[0m\u001b[0;34m,\u001b[0m \u001b[0mframe\u001b[0m \u001b[0;34m=\u001b[0m \u001b[0mcap\u001b[0m\u001b[0;34m.\u001b[0m\u001b[0mread\u001b[0m\u001b[0;34m(\u001b[0m\u001b[0;34m)\u001b[0m\u001b[0;34m\u001b[0m\u001b[0;34m\u001b[0m\u001b[0m\n\u001b[0m\u001b[1;32m     23\u001b[0m \u001b[0;34m\u001b[0m\u001b[0m\n\u001b[1;32m     24\u001b[0m     \u001b[0;31m# resizing for faster detection\u001b[0m\u001b[0;34m\u001b[0m\u001b[0;34m\u001b[0m\u001b[0;34m\u001b[0m\u001b[0m\n",
      "\u001b[0;31mKeyboardInterrupt\u001b[0m: "
     ]
    }
   ],
   "source": [
    "# initialize the HOG descriptor/person detector\n",
    "hog = cv2.HOGDescriptor()\n",
    "hog.setSVMDetector(cv2.HOGDescriptor_getDefaultPeopleDetector())\n",
    "\n",
    "cv2.startWindowThread()\n",
    "\n",
    "# open webcam video stream\n",
    "cap = cv2.VideoCapture(stream.url)\n",
    "\n",
    "# the output will be written to output.avi\n",
    "out = cv2.VideoWriter(\n",
    "    'output.avi',\n",
    "    cv2.VideoWriter_fourcc(*'MJPG'),\n",
    "    15.,\n",
    "    (640,480))\n",
    "\n",
    "enum = 45\n",
    "to_be_deleted_dc = []\n",
    "\n",
    "while(True):\n",
    "    # Capture frame-by-frame\n",
    "    ret, frame = cap.read()\n",
    "\n",
    "    # resizing for faster detection\n",
    "    frame = cv2.resize(frame, (640, 480))\n",
    "    \n",
    "    #crop top half\n",
    "    crop_frame = frame[240:480, 0:640]\n",
    "    frame = crop_frame\n",
    "    \n",
    "    # make a clean copy of the frame\n",
    "    frame_clean = frame\n",
    "    \n",
    "    # using a greyscale picture, also for faster detection\n",
    "    gray = cv2.cvtColor(frame, cv2.COLOR_RGB2GRAY)\n",
    "\n",
    "    # detect people in the image\n",
    "    # returns the bounding boxes for the detected objects\n",
    "    boxes, weights = hog.detectMultiScale(frame, winStride=(8,8) )\n",
    "\n",
    "    boxes = np.array([[x, y, x + w, y + h] for (x, y, w, h) in boxes])\n",
    "\n",
    "    for (xA, yA, xB, yB) in boxes:\n",
    "        # display the detected boxes in the colour picture\n",
    "        cv2.rectangle(frame, (xA, yA), (xB, yB),\n",
    "                          (0, 0, 0), 2)\n",
    "        \n",
    "        #get contents of the bounding box\n",
    "        box = frame_clean[yA:yB, xA:xB]\n",
    "        \n",
    "        isUnique = True #until proven not\n",
    "        \n",
    "        #iterate through the dictionary containing possible duplicates.   \n",
    "        for key, item in possible_duplicates.items():\n",
    "            \n",
    "            #if duplicate candidate is 2 minutes old, schedule to delete it (can't change dic size during iteration).\n",
    "            if time.time()-item.birth > 120:\n",
    "                    to_be_deleted_dc.append(key)\n",
    "                    \n",
    "            #if the new box is already in duplicates, don't save it as a unique person,\n",
    "            if(similar(enum, box, item.img, similarity_threshold)):\n",
    "                \n",
    "                #instead update the duplicate candidate with its newer version.\n",
    "                possible_duplicates[key] = dupinstance(box)\n",
    "                isUnique = False\n",
    "                \n",
    "        # delete old dcs\n",
    "        for key in to_be_deleted_dc:\n",
    "            if(key in possible_duplicates):\n",
    "                del possible_duplicates[key]\n",
    "        \n",
    "        to_be_deleted_dc.clear()\n",
    "            \n",
    "        # if its unique, save it as a unique person.\n",
    "        if isUnique:\n",
    "            cv2.imwrite(\"peep/p{:06d}.jpg\".format(enum), box)\n",
    "            possible_duplicates[enum] = dupinstance(box)\n",
    "            enum+=1\n",
    "                \n",
    "    \n",
    "    # Write the output video \n",
    "    out.write(frame.astype('uint8'))\n",
    "    # Display the resulting frame\n",
    "    cv2.imshow('frame',frame)\n",
    "    if cv2.waitKey(1) & 0xFF == ord('q'):\n",
    "        break\n",
    "\n",
    "# When everything done, release the capture\n",
    "cap.release()\n",
    "# and release the output\n",
    "out.release()\n",
    "# finally, close the window\n",
    "cv2.destroyAllWindows()\n",
    "cv2.waitKey(1)"
   ]
  },
  {
   "cell_type": "code",
   "execution_count": 36,
   "metadata": {},
   "outputs": [
    {
     "data": {
      "text/plain": [
       "True"
      ]
     },
     "execution_count": 36,
     "metadata": {},
     "output_type": "execute_result"
    }
   ],
   "source": [
    "h,w = 5,24\n",
    "\n",
    "l = []\n",
    "im_vs = []\n",
    "\n",
    "im_f = cv2.imread(\"peep/p000001.jpg\")\n",
    "\n",
    "for i in range (h):\n",
    "    \n",
    "    for j in range (w):\n",
    "        l.append(cv2.resize(cv2.imread(\"peep/p{:06d}.jpg\".format(i*w+j+1)), (im_f.shape[1],im_f.shape[0])))\n",
    "    im_vs.append(cv2.hconcat(l))\n",
    "    l.clear()\n",
    "\n",
    "im_cc = cv2.vconcat(im_vs)\n",
    "cv2.imwrite(\"collage.jpg\", im_cc)"
   ]
  },
  {
   "cell_type": "code",
   "execution_count": null,
   "metadata": {},
   "outputs": [],
   "source": []
  },
  {
   "cell_type": "code",
   "execution_count": null,
   "metadata": {},
   "outputs": [],
   "source": []
  }
 ],
 "metadata": {
  "kernelspec": {
   "display_name": "Python 3",
   "language": "python",
   "name": "python3"
  },
  "language_info": {
   "codemirror_mode": {
    "name": "ipython",
    "version": 3
   },
   "file_extension": ".py",
   "mimetype": "text/x-python",
   "name": "python",
   "nbconvert_exporter": "python",
   "pygments_lexer": "ipython3",
   "version": "3.6.9"
  }
 },
 "nbformat": 4,
 "nbformat_minor": 2
}
