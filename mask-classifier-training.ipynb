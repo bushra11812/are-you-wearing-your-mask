{
 "cells": [
  {
   "cell_type": "code",
   "execution_count": 189,
   "metadata": {},
   "outputs": [],
   "source": [
    "import cv2\n",
    "import numpy as np\n",
    "import time\n",
    "import pandas as pd\n",
    "import matplotlib.pyplot as plt\n",
    "import PIL\n",
    "from PIL import Image\n",
    "from scipy import ndimage, misc"
   ]
  },
  {
   "cell_type": "code",
   "execution_count": 190,
   "metadata": {},
   "outputs": [],
   "source": [
    "labels = pd.read_csv(\"labels/save.txt\", engine=\"python\")"
   ]
  },
  {
   "cell_type": "code",
   "execution_count": 191,
   "metadata": {},
   "outputs": [],
   "source": [
    "dic = {}\n",
    "ppl = []"
   ]
  },
  {
   "cell_type": "code",
   "execution_count": 192,
   "metadata": {},
   "outputs": [],
   "source": [
    "num = len(labels)\n",
    "\n",
    "for i in range (num):\n",
    "    dic[labels[\"id\"][i]] = labels[\"class\"][i]"
   ]
  },
  {
   "cell_type": "code",
   "execution_count": 193,
   "metadata": {},
   "outputs": [],
   "source": [
    "vals = []"
   ]
  },
  {
   "cell_type": "code",
   "execution_count": 194,
   "metadata": {},
   "outputs": [],
   "source": [
    "def dispcf(X,Y):\n",
    "    \n",
    "    predictions = model.predict(X)\n",
    "    pred_lbls   = np.argmax(predictions, axis=1)\n",
    "\n",
    "    true0,false0,true1,false1,true2,false2 = 0,0,0,0,0,0\n",
    "\n",
    "    for i in range (len(pred_lbls)):\n",
    "        if pred_lbls[i] == np.argmax(Y[i]):\n",
    "            if pred_lbls[i] == 0:\n",
    "                true0 += 1\n",
    "            elif pred_lbls[i] == 1:\n",
    "                true1 += 1 \n",
    "            elif pred_lbls[i] == 2:\n",
    "                true2 += 1 \n",
    "        else:\n",
    "            if pred_lbls[i] == 0:\n",
    "                false0 += 1\n",
    "            elif pred_lbls[i] == 1:\n",
    "                false1 += 1 \n",
    "            elif pred_lbls[i] == 2:\n",
    "                false2 += 1 \n",
    "\n",
    "    print(\"true0:{}\\tfalse0:{}\\ntrue1:{}\\tfalse1:{}\".format(true0,false0,true1,false1)) \n",
    "    \n",
    "    return (1-(true0*false1)/(true1*false0))**2\n",
    "\n",
    "def shift_image(X, dx, dy):\n",
    "    X = np.roll(X, dy, axis=0)\n",
    "    X = np.roll(X, dx, axis=1)\n",
    "    if dy>0:\n",
    "        X[:dy, :] = X[dy:dy*2, :]\n",
    "    elif dy<0:\n",
    "        X[dy:, :] = X[dy*2:dy, :]\n",
    "    if dx>0:\n",
    "        X[:, :dx] = X[:,dx:dx*2]\n",
    "    elif dx<0:\n",
    "        X[:, dx:] = X[:, dx*2:dx]\n",
    "    return X"
   ]
  },
  {
   "cell_type": "code",
   "execution_count": 195,
   "metadata": {},
   "outputs": [],
   "source": [
    "x,y = 32,32\n",
    "\n",
    "\n",
    "for i in dic.keys():\n",
    "    \n",
    "    vals.append(dic[i])\n",
    "    \n",
    "    img = Image.open(\"peep/p{:06d}.jpg\".format(i))\n",
    "    width, height = img.size\n",
    "\n",
    "    left = width/4\n",
    "    top = 10\n",
    "    right = 3*width/4\n",
    "    bottom = height/2\n",
    "    crp = img.crop((left, top, right, bottom)).resize((x,y))\n",
    "    \n",
    "    ppl.append(np.array(crp))"
   ]
  },
  {
   "cell_type": "code",
   "execution_count": 196,
   "metadata": {},
   "outputs": [
    {
     "data": {
      "text/plain": [
       "(array([3124.,    0.,    0.,    0.,    0.,  388.,    0.,    0.,    0.,\n",
       "        3203.]),\n",
       " array([0. , 0.2, 0.4, 0.6, 0.8, 1. , 1.2, 1.4, 1.6, 1.8, 2. ]),\n",
       " <a list of 10 Patch objects>)"
      ]
     },
     "execution_count": 196,
     "metadata": {},
     "output_type": "execute_result"
    },
    {
     "data": {
      "image/png": "[encoded data removed]",
      "text/plain": [
       "<Figure size 432x288 with 1 Axes>"
      ]
     },
     "metadata": {
      "needs_background": "light"
     },
     "output_type": "display_data"
    }
   ],
   "source": [
    "plt.hist(vals)"
   ]
  },
  {
   "cell_type": "code",
   "execution_count": 197,
   "metadata": {},
   "outputs": [],
   "source": [
    "pred_ppl = []\n",
    "\n",
    "for j in range(5):\n",
    "    \n",
    "    i=j+1\n",
    "    \n",
    "    img = Image.open(\"temp/{:03d}.jpg\".format(i))\n",
    "    width, height = img.size\n",
    "\n",
    "    left = width/4\n",
    "    top = 0\n",
    "    right = 3*width/4\n",
    "    bottom = height/2\n",
    "    crp = img.crop((left, top, right, bottom)).resize((x,y))\n",
    "    \n",
    "    pred_ppl.append(np.array(crp))\n",
    "    \n",
    "pred_ppl = np.array(pred_ppl)"
   ]
  },
  {
   "cell_type": "code",
   "execution_count": 198,
   "metadata": {},
   "outputs": [
    {
     "name": "stdout",
     "output_type": "stream",
     "text": [
      "6715 6715\n"
     ]
    }
   ],
   "source": [
    "print(len(vals), len(ppl))"
   ]
  },
  {
   "cell_type": "code",
   "execution_count": 199,
   "metadata": {},
   "outputs": [],
   "source": [
    "for i in range (len(vals)):\n",
    "    if vals[i]==2:\n",
    "        vals[i]=0"
   ]
  },
  {
   "cell_type": "code",
   "execution_count": 200,
   "metadata": {},
   "outputs": [
    {
     "name": "stdout",
     "output_type": "stream",
     "text": [
      "8.653350515463918\n"
     ]
    },
    {
     "data": {
      "image/png": "[encoded data removed]",
      "text/plain": [
       "<Figure size 432x288 with 1 Axes>"
      ]
     },
     "metadata": {
      "needs_background": "light"
     },
     "output_type": "display_data"
    }
   ],
   "source": [
    "plt.hist(vals)\n",
    "\n",
    "norm_coeff = (np.average(vals)**-1)/2\n",
    "print(norm_coeff)"
   ]
  },
  {
   "cell_type": "code",
   "execution_count": 201,
   "metadata": {},
   "outputs": [
    {
     "data": {
      "text/plain": [
       "'\\nfor i in range (len(vals)):\\n    if vals[i]==1:\\n        for j in range(int(1)):\\n            npl = shift_image(ppl[i],j,j)\\n            rpl = ndimage.rotate(npl, j, mode=\"mirror\",reshape=False)\\n            ppl.append(rpl)\\n            vals.append(1)\\n'"
      ]
     },
     "execution_count": 201,
     "metadata": {},
     "output_type": "execute_result"
    }
   ],
   "source": [
    "# NORMALIZATION\n",
    "\n",
    "\"\"\"\n",
    "for i in range (len(vals)):\n",
    "    if vals[i]==1:\n",
    "        ppl.append(np.flip(ppl[i], axis=1))\n",
    "        vals.append(1)\n",
    "        cv2.imwrite(\"1s/{:06d}.jpg\".format(i), ppl[i])\n",
    "\"\"\"\n",
    "\n",
    "\"\"\"\n",
    "for i in range (len(vals)):\n",
    "    if vals[i]==1:\n",
    "        for j in range(int(1)):\n",
    "            npl = shift_image(ppl[i],j,j)\n",
    "            rpl = ndimage.rotate(npl, j, mode=\"mirror\",reshape=False)\n",
    "            ppl.append(rpl)\n",
    "            vals.append(1)\n",
    "\"\"\""
   ]
  },
  {
   "cell_type": "code",
   "execution_count": 202,
   "metadata": {},
   "outputs": [],
   "source": [
    "ppl = np.array(ppl)\n",
    "vals = np.array(vals)"
   ]
  },
  {
   "cell_type": "code",
   "execution_count": 203,
   "metadata": {},
   "outputs": [
    {
     "data": {
      "text/plain": [
       "(array([6327.,    0.,  388.]),\n",
       " array([0.        , 0.33333333, 0.66666667, 1.        ]),\n",
       " <a list of 3 Patch objects>)"
      ]
     },
     "execution_count": 203,
     "metadata": {},
     "output_type": "execute_result"
    },
    {
     "data": {
      "image/png": "[encoded data removed]",
      "text/plain": [
       "<Figure size 432x288 with 1 Axes>"
      ]
     },
     "metadata": {
      "needs_background": "light"
     },
     "output_type": "display_data"
    }
   ],
   "source": [
    "# histogram with twice as much masked people\n",
    "plt.hist(vals,3)"
   ]
  },
  {
   "cell_type": "code",
   "execution_count": 204,
   "metadata": {},
   "outputs": [],
   "source": [
    "from sklearn.utils import class_weight\n",
    "from sklearn.utils import shuffle\n",
    "\n",
    "ppl, vals = shuffle(ppl, vals)\n",
    "\n",
    "class_weights = class_weight.compute_class_weight(\"balanced\", np.unique(vals), vals)"
   ]
  },
  {
   "cell_type": "code",
   "execution_count": 218,
   "metadata": {},
   "outputs": [],
   "source": [
    "class_weight_dict = dict(enumerate(reversed(class_weights)))\n",
    "class_weight_dict = {0:1 , 1:1}\n",
    "#class_weight_dict "
   ]
  },
  {
   "cell_type": "code",
   "execution_count": 219,
   "metadata": {},
   "outputs": [
    {
     "name": "stdout",
     "output_type": "stream",
     "text": [
      "Shape before one-hot encoding:  (4700,)\n",
      "Shape after one-hot encoding:  (4700, 2)\n"
     ]
    }
   ],
   "source": [
    "# keras imports for the dataset and building our neural network\n",
    "from keras.datasets import mnist\n",
    "from keras.models import Sequential\n",
    "from keras.layers import Dense, Dropout, Conv2D, MaxPool2D, Flatten, BatchNormalization, MaxPooling2D\n",
    "from keras.utils import np_utils\n",
    "from keras.callbacks import EarlyStopping, ModelCheckpoint\n",
    "\n",
    "# to calculate accuracy\n",
    "from sklearn.metrics import accuracy_score\n",
    "\n",
    "percentage = 70\n",
    "\n",
    "# loading the dataset\n",
    "X_train = ppl[:percentage*ppl.shape[0]//100]\n",
    "X_test  = ppl[percentage*ppl.shape[0]//100:]\n",
    "\n",
    "y_train = vals[:percentage*ppl.shape[0]//100]\n",
    "y_test  = vals[percentage*ppl.shape[0]//100:]\n",
    "\n",
    "# building the input vector from the 28x28 pixels\n",
    "#X_train = X_train.reshape(X_train.shape[0], 28, 28, 1)\n",
    "#X_test = X_test.reshape(X_test.shape[0], 28, 28, 1)\n",
    "X_train = X_train.astype('float32')\n",
    "X_test = X_test.astype('float32')\n",
    "\n",
    "# normalizing the data to help with the training\n",
    "X_train /= 255\n",
    "X_test /= 255\n",
    "\n",
    "# one-hot encoding using keras' numpy-related utilities\n",
    "n_classes = len(np.unique(vals))\n",
    "print(\"Shape before one-hot encoding: \", y_train.shape)\n",
    "Y_train = np_utils.to_categorical(y_train, n_classes)\n",
    "Y_test = np_utils.to_categorical(y_test, n_classes)\n",
    "print(\"Shape after one-hot encoding: \", Y_train.shape)"
   ]
  },
  {
   "cell_type": "code",
   "execution_count": 220,
   "metadata": {},
   "outputs": [
    {
     "data": {
      "text/plain": [
       "\"# building a linear stack of layers with the sequential model\\nmodel = Sequential()\\n# convolutional layer\\nmodel.add(Conv2D(64, kernel_size=(4,4), strides=(1,1), activation='relu', input_shape=(x,y,3)))\\nmodel.add(Dropout(.2))\\nmodel.add(BatchNormalization())\\n\\nmodel.add(Conv2D(32, kernel_size=(4,4), strides=(1,1), activation='relu', input_shape=(x,y,3)))\\nmodel.add(Dropout(.2))\\nmodel.add(MaxPooling2D(pool_size=(2,2)))\\n\\n# flatten output of conv\\nmodel.add(Flatten())\\n# hidden layer\\nmodel.add(Dense(48, activation='relu'))\\nmodel.add(Dropout(.2))\\n\\n# output layer\\nmodel.add(Dense(2, activation='softmax'))\\n\\n# compiling the sequential model\\nmodel.compile(loss='binary_crossentropy', metrics=['binary_accuracy'], optimizer='adam')\""
      ]
     },
     "execution_count": 220,
     "metadata": {},
     "output_type": "execute_result"
    }
   ],
   "source": [
    "\"\"\"# building a linear stack of layers with the sequential model\n",
    "model = Sequential()\n",
    "# convolutional layer\n",
    "model.add(Conv2D(64, kernel_size=(4,4), strides=(1,1), activation='relu', input_shape=(x,y,3)))\n",
    "model.add(Dropout(.2))\n",
    "model.add(BatchNormalization())\n",
    "\n",
    "model.add(Conv2D(32, kernel_size=(4,4), strides=(1,1), activation='relu', input_shape=(x,y,3)))\n",
    "model.add(Dropout(.2))\n",
    "model.add(MaxPooling2D(pool_size=(2,2)))\n",
    "\n",
    "# flatten output of conv\n",
    "model.add(Flatten())\n",
    "# hidden layer\n",
    "model.add(Dense(48, activation='relu'))\n",
    "model.add(Dropout(.2))\n",
    "\n",
    "# output layer\n",
    "model.add(Dense(2, activation='softmax'))\n",
    "\n",
    "# compiling the sequential model\n",
    "model.compile(loss='binary_crossentropy', metrics=['binary_accuracy'], optimizer='adam')\"\"\""
   ]
  },
  {
   "cell_type": "code",
   "execution_count": null,
   "metadata": {},
   "outputs": [
    {
     "name": "stdout",
     "output_type": "stream",
     "text": [
      "Train on 4700 samples, validate on 2015 samples\n",
      "Epoch 1/1\n",
      "4700/4700 [==============================] - 15s 3ms/step - loss: 0.0716 - binary_accuracy: 0.9638 - val_loss: 0.4374 - val_binary_accuracy: 0.9439\n",
      "\n",
      "Epoch 00001: val_binary_accuracy improved from -inf to 0.94392, saving model to modelchkpts/model-001-0.943921.h5\n",
      "[0 0 0 0 0]\n",
      "true0:1895\tfalse0:107\n",
      "true1:7\tfalse1:6\n",
      "Train on 4700 samples, validate on 2015 samples\n",
      "Epoch 1/1\n",
      "4700/4700 [==============================] - 20s 4ms/step - loss: 0.0476 - binary_accuracy: 0.9772 - val_loss: 0.3527 - val_binary_accuracy: 0.9484\n",
      "\n",
      "Epoch 00001: val_binary_accuracy improved from 0.94392 to 0.94839, saving model to modelchkpts/model-001-0.948387.h5\n",
      "[0 0 0 0 0]\n",
      "true0:1893\tfalse0:96\n",
      "true1:18\tfalse1:8\n",
      "Train on 4700 samples, validate on 2015 samples\n",
      "Epoch 1/1\n",
      "4700/4700 [==============================] - 16s 3ms/step - loss: 0.0431 - binary_accuracy: 0.9794 - val_loss: 0.4142 - val_binary_accuracy: 0.9479\n",
      "\n",
      "Epoch 00001: val_binary_accuracy did not improve from 0.94839\n",
      "[0 0 0 0 0]\n",
      "true0:1897\tfalse0:101\n",
      "true1:13\tfalse1:4\n",
      "Train on 4700 samples, validate on 2015 samples\n",
      "Epoch 1/1\n",
      "4700/4700 [==============================] - 18s 4ms/step - loss: 0.0343 - binary_accuracy: 0.9840 - val_loss: 0.3070 - val_binary_accuracy: 0.9469\n",
      "\n",
      "Epoch 00001: val_binary_accuracy did not improve from 0.94839\n",
      "[0 0 0 0 0]\n",
      "true0:1881\tfalse0:87\n",
      "true1:27\tfalse1:20\n",
      "Train on 4700 samples, validate on 2015 samples\n",
      "Epoch 1/1\n",
      "4700/4700 [==============================] - 15s 3ms/step - loss: 0.0345 - binary_accuracy: 0.9838 - val_loss: 0.3116 - val_binary_accuracy: 0.9509\n",
      "\n",
      "Epoch 00001: val_binary_accuracy improved from 0.94839 to 0.95087, saving model to modelchkpts/model-001-0.950868.h5\n",
      "[0 0 0 0 0]\n",
      "true0:1886\tfalse0:84\n",
      "true1:30\tfalse1:15\n",
      "Train on 4700 samples, validate on 2015 samples\n",
      "Epoch 1/1\n"
     ]
    }
   ],
   "source": [
    "checkpoint = ModelCheckpoint('modelchkpts/model-{epoch:03d}-{val_binary_accuracy:06f}.h5', verbose=1, monitor='val_binary_accuracy',save_best_only=True, mode='auto')  \n",
    "\n",
    "log = 100\n",
    "\n",
    "for i in range(300):\n",
    "    # training the model for 10 epochs\n",
    "    model.fit(X_train, Y_train, \n",
    "                        batch_size=128, \n",
    "                        epochs=1,\n",
    "                        shuffle=True, \n",
    "                        class_weight=class_weight_dict, \n",
    "                        callbacks=[checkpoint],\n",
    "                        validation_data=(X_test, Y_test))\n",
    "    prs = np.argmax(model.predict(pred_ppl), axis=1)\n",
    "    print(prs)\n",
    "    try:\n",
    "        dispcf(X_test, Y_test)\n",
    "    except:\n",
    "        pass \n",
    "    \n",
    "    if np.array_equal(prs,np.array([1,0,0,0,1])):\n",
    "        print(\"ANCHOR 10001\")\n",
    "        model.save_weights(\"models/anchor.h5\")\n",
    "        log = dispcf(X_test, Y_test)"
   ]
  },
  {
   "cell_type": "code",
   "execution_count": null,
   "metadata": {},
   "outputs": [],
   "source": []
  },
  {
   "cell_type": "code",
   "execution_count": null,
   "metadata": {},
   "outputs": [],
   "source": []
  },
  {
   "cell_type": "code",
   "execution_count": null,
   "metadata": {},
   "outputs": [],
   "source": []
  }
 ],
 "metadata": {
  "kernelspec": {
   "display_name": "Python 3",
   "language": "python",
   "name": "python3"
  },
  "language_info": {
   "codemirror_mode": {
    "name": "ipython",
    "version": 3
   },
   "file_extension": ".py",
   "mimetype": "text/x-python",
   "name": "python",
   "nbconvert_exporter": "python",
   "pygments_lexer": "ipython3",
   "version": "3.6.9"
  }
 },
 "nbformat": 4,
 "nbformat_minor": 2
}
